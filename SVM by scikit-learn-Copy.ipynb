{
 "cells": [
  {
   "cell_type": "code",
   "execution_count": 1,
   "metadata": {},
   "outputs": [],
   "source": [
    "#load data\n",
    "import numpy as np\n",
    "import pandas as pd\n",
    "\n",
    "colname=['r1','r2','r3','r4','r5','r6','r7','r8','class']\n",
    "data1=pd.read_csv('salted_fish_train.csv',names=colname)\n",
    "data2=pd.read_csv('salted_fish_test.csv',names=colname)\n",
    "\n",
    "data1=data1.dropna(how='any')\n",
    "data2=data2.dropna(how='any')"
   ]
  },
  {
   "cell_type": "code",
   "execution_count": 2,
   "metadata": {},
   "outputs": [
    {
     "name": "stderr",
     "output_type": "stream",
     "text": [
      "E:\\Anaconda\\lib\\site-packages\\sklearn\\cross_validation.py:41: DeprecationWarning: This module was deprecated in version 0.18 in favor of the model_selection module into which all the refactored classes and functions are moved. Also note that the interface of the new CV iterators are different from that of this module. This module will be removed in 0.20.\n",
      "  \"This module will be removed in 0.20.\", DeprecationWarning)\n"
     ]
    }
   ],
   "source": [
    "from sklearn.cross_validation import train_test_split\n",
    "\n",
    "#X_train是train set,y_train是train label\n",
    "#X_test是test set,y_test是test label\n",
    "X_train,x,y_train,x=train_test_split(data1[colname[0:8]],data1[colname[8]],test_size=0.01,random_state=33)\n",
    "X_test,x,y_test,x=train_test_split(data2[colname[0:8]],data2[colname[8]],test_size=0.01,random_state=33)\n"
   ]
  },
  {
   "cell_type": "code",
   "execution_count": 3,
   "metadata": {},
   "outputs": [],
   "source": [
    "#estimater导入\n",
    "from sklearn.preprocessing import StandardScaler\n",
    "from sklearn.svm import LinearSVC\n",
    "\n",
    "\n",
    "SS=StandardScaler()\n",
    "X_train=SS.fit_transform(X_train)\n",
    "X_test=SS.transform(X_test)\n",
    "\n",
    "LSVC=LinearSVC()\n",
    "LSVC.fit(X_train,y_train)\n",
    "LSVCpredict=LSVC.predict(X_test)"
   ]
  },
  {
   "cell_type": "code",
   "execution_count": 4,
   "metadata": {},
   "outputs": [
    {
     "name": "stdout",
     "output_type": "stream",
     "text": [
      "Accuracy of LSVC Classifier: 0.796875\n"
     ]
    }
   ],
   "source": [
    "from sklearn.metrics import classification_report\n",
    "print('Accuracy of LSVC Classifier:',LSVC.score(X_test,y_test))"
   ]
  }
 ],
 "metadata": {
  "kernelspec": {
   "display_name": "Python 3",
   "language": "python",
   "name": "python3"
  },
  "language_info": {
   "codemirror_mode": {
    "name": "ipython",
    "version": 3
   },
   "file_extension": ".py",
   "mimetype": "text/x-python",
   "name": "python",
   "nbconvert_exporter": "python",
   "pygments_lexer": "ipython3",
   "version": "3.6.4"
  }
 },
 "nbformat": 4,
 "nbformat_minor": 2
}
