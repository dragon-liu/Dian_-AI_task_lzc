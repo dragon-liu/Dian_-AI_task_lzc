{
 "cells": [
  {
   "cell_type": "code",
   "execution_count": 1,
   "metadata": {},
   "outputs": [],
   "source": [
    "#load data\n",
    "import numpy as np\n",
    "import pandas as pd\n",
    "\n",
    "colname=['r1','r2','r3','r4','r5','r6','r7','r8','class']\n",
    "data1=pd.read_csv('salted_fish_train.csv',names=colname)\n",
    "data2=pd.read_csv('salted_fish_test.csv',names=colname)\n",
    "\n",
    "data1=data1.dropna(how='any')\n",
    "data2=data2.dropna(how='any')"
   ]
  },
  {
   "cell_type": "code",
   "execution_count": 2,
   "metadata": {},
   "outputs": [
    {
     "name": "stdout",
     "output_type": "stream",
     "text": [
      "        r1  r2    r3     r4     r5     r6    r7  r8\n",
      "0    0.156   5  35.8   82.0   42.0   77.0  41.0  35\n",
      "2    0.283   1  26.6   72.0   40.0   81.0  18.0  24\n",
      "3    0.463   4  22.1   72.0   87.0  116.0  12.0  37\n",
      "4    0.352   0  26.4   58.0  291.0  134.0  20.0  21\n",
      "5    0.400   3  30.8   44.0   94.0  102.0  20.0  26\n",
      "7    0.284   3  19.3   80.0   64.0   99.0  11.0  30\n",
      "8    0.422   1  33.2   78.0   45.0   71.0  50.0  21\n",
      "9    0.430   6  34.0   58.0  190.0   98.0  33.0  43\n",
      "12   0.673   1  25.9   74.0   73.0   95.0  21.0  36\n",
      "13   0.875   1  36.5   76.0  249.0  196.0  36.0  29\n",
      "18   0.162   8  25.9   74.0   75.0  126.0  38.0  39\n",
      "19   0.280   1  35.5   44.0   63.0  119.0  47.0  25\n",
      "22   0.658   1  25.3   72.0   70.0  100.0  12.0  28\n",
      "23   0.536   1  40.7   62.0  480.0  139.0  41.0  21\n",
      "24   0.733   9  20.8   72.0   56.0  120.0  22.0  48\n",
      "26   0.520   2  42.1   48.0  165.0  123.0  32.0  26\n",
      "28   0.263   5  36.1   72.0   75.0  108.0  43.0  33\n",
      "29   0.255   6  33.9   72.0  228.0  144.0  27.0  40\n",
      "30   0.549   3  32.4   72.0  190.0  128.0  25.0  27\n",
      "32   0.649   2  31.6   76.0   66.0   94.0  18.0  23\n",
      "33   0.412  14  36.6   78.0  184.0  100.0  25.0  46\n",
      "36   0.427   0  52.3   90.0  680.0  165.0  33.0  23\n",
      "37   0.336   3  34.3   58.0   18.0   83.0  31.0  25\n",
      "38   0.495   3  28.4   90.0   78.0  111.0  12.0  29\n",
      "39   0.204   7  37.2   74.0  105.0  102.0  40.0  45\n",
      "40   0.347   0  43.5   70.0  115.0   94.0  27.0  21\n",
      "41   0.738   7  33.3   64.0   79.0   94.0  25.0  41\n",
      "44   0.254   7  37.7   68.0  304.0  187.0  39.0  41\n",
      "50   0.285  10  35.5  106.0   49.0   68.0  23.0  47\n",
      "51   0.496   0  40.6   64.0   78.0  102.0  46.0  21\n",
      "..     ...  ..   ...    ...    ...    ...   ...  ..\n",
      "449  0.528   1  34.4   72.0  176.0  112.0  30.0  25\n",
      "451  0.295   3  31.2   64.0  387.0  158.0  13.0  24\n",
      "453  0.527   4  27.5   60.0  231.0  129.0  12.0  31\n",
      "454  1.072   0  34.6   60.0  478.0  177.0  29.0  21\n",
      "455  0.586   7  35.9   84.0  192.0  181.0  21.0  51\n",
      "456  0.692   7  35.2   78.0  126.0  150.0  29.0  54\n",
      "458  1.162   1  38.9   80.0  200.0  120.0  48.0  41\n",
      "460  0.163   7  25.1   70.0  145.0  195.0  33.0  55\n",
      "461  0.619   5  38.7   84.0  545.0  155.0  44.0  34\n",
      "462  0.655   1  25.9   50.0  375.0  193.0  16.0  24\n",
      "463  0.161   7  25.5   70.0  215.0  124.0  33.0  37\n",
      "466  0.153  15  37.1   70.0  110.0  136.0  32.0  43\n",
      "467  0.118   4  28.4   76.0  100.0  110.0  20.0  27\n",
      "471  0.947   1  25.4   60.0  182.0  109.0   8.0  21\n",
      "472  0.411   5  28.6   64.0  140.0  139.0  35.0  26\n",
      "474  0.361   4  29.7   70.0  168.0  173.0  14.0  33\n",
      "475  0.510   0  33.6   64.0   64.0  104.0  37.0  22\n",
      "480  0.366   0  44.6   64.0  105.0   95.0  39.0  22\n",
      "481  0.880   3  57.3  100.0  240.0  123.0  35.0  22\n",
      "482  0.389   1  23.7   64.0  415.0  131.0  14.0  21\n",
      "484  0.453   2  36.6   60.0  160.0   99.0  17.0  21\n",
      "485  0.173   0  41.5   64.0  142.0  105.0  41.0  22\n",
      "486  0.821   1  30.8   72.0   82.0  107.0  30.0  24\n",
      "487  0.230   4  33.2   64.0  120.0  117.0  27.0  24\n",
      "489  1.096   1  46.3   74.0   57.0   81.0  41.0  32\n",
      "492  0.285   0  30.5   74.0   63.0  120.0  18.0  26\n",
      "493  0.245  13  22.2   82.0  110.0  145.0  19.0  57\n",
      "494  0.871   7  40.9   76.0   91.0   97.0  32.0  32\n",
      "498  0.240   2  38.7   52.0  540.0  155.0  27.0  25\n",
      "499  1.292   3  34.2   82.0   70.0   80.0  31.0  27\n",
      "\n",
      "[262 rows x 8 columns]\n",
      "0      0\n",
      "2      0\n",
      "3      0\n",
      "4      0\n",
      "5      0\n",
      "7      0\n",
      "8      0\n",
      "9      0\n",
      "12     0\n",
      "13     1\n",
      "18     0\n",
      "19     0\n",
      "22     0\n",
      "23     0\n",
      "24     0\n",
      "26     0\n",
      "28     0\n",
      "29     0\n",
      "30     1\n",
      "32     0\n",
      "33     1\n",
      "36     0\n",
      "37     0\n",
      "38     0\n",
      "39     0\n",
      "40     0\n",
      "41     0\n",
      "44     1\n",
      "50     0\n",
      "51     0\n",
      "      ..\n",
      "449    0\n",
      "451    0\n",
      "453    0\n",
      "454    1\n",
      "455    1\n",
      "456    1\n",
      "458    0\n",
      "460    1\n",
      "461    0\n",
      "462    0\n",
      "463    0\n",
      "466    1\n",
      "467    0\n",
      "471    0\n",
      "472    0\n",
      "474    1\n",
      "475    1\n",
      "480    0\n",
      "481    0\n",
      "482    0\n",
      "484    0\n",
      "485    0\n",
      "486    0\n",
      "487    0\n",
      "489    0\n",
      "492    0\n",
      "493    0\n",
      "494    1\n",
      "498    1\n",
      "499    1\n",
      "Name: class, Length: 262, dtype: int64\n",
      "0    177\n",
      "1     82\n",
      "Name: class, dtype: int64\n",
      "0    83\n",
      "1    45\n",
      "Name: class, dtype: int64\n"
     ]
    },
    {
     "name": "stderr",
     "output_type": "stream",
     "text": [
      "E:\\Anaconda\\lib\\site-packages\\sklearn\\cross_validation.py:41: DeprecationWarning: This module was deprecated in version 0.18 in favor of the model_selection module into which all the refactored classes and functions are moved. Also note that the interface of the new CV iterators are different from that of this module. This module will be removed in 0.20.\n",
      "  \"This module will be removed in 0.20.\", DeprecationWarning)\n"
     ]
    }
   ],
   "source": [
    "from sklearn.cross_validation import train_test_split\n",
    "\n",
    "print(data1[colname[0:8]])\n",
    "print(data1[colname[8]])\n",
    "\n",
    "#X_train是train set,y_train是train label\n",
    "#X_test是test set,y_test是test label\n",
    "X_train,x,y_train,x=train_test_split(data1[colname[0:8]],data1[colname[8]],test_size=0.01,random_state=33)\n",
    "X_test,x,y_test,x=train_test_split(data2[colname[0:8]],data2[colname[8]],test_size=0.01,random_state=33)\n",
    "\n",
    "\n",
    "print(y_train.value_counts()) #train set\n",
    "print(y_test.value_counts())  #test set"
   ]
  },
  {
   "cell_type": "code",
   "execution_count": 3,
   "metadata": {},
   "outputs": [
    {
     "name": "stderr",
     "output_type": "stream",
     "text": [
      "E:\\Anaconda\\lib\\site-packages\\sklearn\\linear_model\\stochastic_gradient.py:128: FutureWarning: max_iter and tol parameters have been added in <class 'sklearn.linear_model.stochastic_gradient.SGDClassifier'> in 0.19. If both are left unset, they default to max_iter=5 and tol=None. If tol is not None, max_iter defaults to max_iter=1000. From 0.21, default max_iter will be 1000, and default tol will be 1e-3.\n",
      "  \"and default tol will be 1e-3.\" % type(self), FutureWarning)\n"
     ]
    }
   ],
   "source": [
    "#estimater导入\n",
    "from sklearn.preprocessing import StandardScaler\n",
    "from sklearn.linear_model import SGDClassifier\n",
    "\n",
    "\n",
    "SS=StandardScaler()\n",
    "X_train=SS.fit_transform(X_train)\n",
    "X_test=SS.transform(X_test)\n",
    "\n",
    "SGDC=SGDClassifier()\n",
    "SGDC.fit(X_train,y_train)\n",
    "SGDCpredict=SGDC.predict(X_test)"
   ]
  },
  {
   "cell_type": "code",
   "execution_count": 4,
   "metadata": {},
   "outputs": [
    {
     "name": "stdout",
     "output_type": "stream",
     "text": [
      "Accuracy of SGDC Classifier: 0.765625\n"
     ]
    }
   ],
   "source": [
    "from sklearn.metrics import classification_report\n",
    "print('Accuracy of SGDC Classifier:',SGDC.score(X_test,y_test))"
   ]
  }
 ],
 "metadata": {
  "kernelspec": {
   "display_name": "Python 3",
   "language": "python",
   "name": "python3"
  },
  "language_info": {
   "codemirror_mode": {
    "name": "ipython",
    "version": 3
   },
   "file_extension": ".py",
   "mimetype": "text/x-python",
   "name": "python",
   "nbconvert_exporter": "python",
   "pygments_lexer": "ipython3",
   "version": "3.6.4"
  }
 },
 "nbformat": 4,
 "nbformat_minor": 2
}
